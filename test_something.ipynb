{
 "cells": [
  {
   "cell_type": "code",
   "execution_count": 1,
   "metadata": {},
   "outputs": [
    {
     "name": "stdout",
     "output_type": "stream",
     "text": [
      "WARNING:tensorflow:Collective ops is not configured at program startup. Some performance features may not be enabled.\n",
      "INFO:tensorflow:Using MirroredStrategy with devices ('/job:localhost/replica:0/task:0/device:GPU:4',)\n",
      "Number of devices: 1\n",
      "np.sum(Zbin[Y==1]) =  496045\n",
      "n1 =  500083\n",
      "np.sum(Zbin[Y==0] == 0) =  7967\n",
      "n0 =  499917\n",
      "Accuracy:  0.504012 TPR:  0.9919253403934947 TNR:  0.015936645483150203 MSE: 0.24902146\n",
      "Percentage of random pairs with score higher than median of real pairs: 49.60723480097696\n"
     ]
    }
   ],
   "source": [
    "\n",
    "# evaluate the performance of distinguisher,compute the tpr,tnr\n",
    "from AES_128_batch import generate_train_data\n",
    "import numpy as np\n",
    "import tensorflow as tf \n",
    "from tensorflow.keras.models import load_model\n",
    "\n",
    "gpus = tf.config.list_physical_devices(device_type='GPU')\n",
    "for gpu in gpus:\n",
    "    tf.config.experimental.set_memory_growth(device=gpu,enable = True) \n",
    "\n",
    "# model_file = \"./good_trained_nets/AES128_data_index_None_best_model_2r_depth5_num_epochs20_acc_1.0.h5\"\n",
    "# model_file = \"./good_trained_nets/AES128_data_index_None_best_model_3r_depth5_num_epochs20_acc_0.5303980112075806.h5\"\n",
    "model_file = \"./3_round_good_trained_nets/AES16_data_index_[0, 13]_best_model_3r_depth5_num_epochs20_acc_0.5042799711227417.h5\"\n",
    "net = load_model(model_file)\n",
    "\n",
    "nr = 3\n",
    "index = [0,13]\n",
    "\n",
    "def evaluate(net,X,Y):\n",
    "    strategy = tf.distribute.MirroredStrategy(\n",
    "        # devices=[\"/gpu:0\", \"/gpu:1\", \"/gpu:2\", \"/gpu:3\", \"/gpu:4\"])\n",
    "        devices=[\"/gpu:4\"])\n",
    "    print('Number of devices: %d' % strategy.num_replicas_in_sync)  # 输出设备数量\n",
    "    batch_size = 2000 * strategy.num_replicas_in_sync\n",
    "    with strategy.scope():\n",
    "        Z = net.predict(X,batch_size=batch_size).flatten();\n",
    "    Zbin = (Z > 0.5);\n",
    "    diff = Y - Z; mse = np.mean(diff*diff);\n",
    "    n = len(Z); n0 = np.sum(Y==0); n1 = np.sum(Y==1);\n",
    "    acc = np.sum(Zbin == Y) / n;\n",
    "    tpr = np.sum(Zbin[Y==1]) / n1;\n",
    "    tnr = np.sum(Zbin[Y==0] == 0) / n0;\n",
    "    mreal = np.median(Z[Y==1]);\n",
    "    high_random = np.sum(Z[Y==0] > mreal) / n0;\n",
    "    print(\"np.sum(Zbin[Y==1]) = \",np.sum(Zbin[Y==1]))\n",
    "    print(\"n1 = \",n1)\n",
    "    print(\"np.sum(Zbin[Y==0] == 0) = \",np.sum(Zbin[Y==0] == 0))\n",
    "    print(\"n0 = \",n0)\n",
    "    print(\"Accuracy: \", acc, \"TPR: \", tpr, \"TNR: \", tnr, \"MSE:\", mse);\n",
    "    print(\"Percentage of random pairs with score higher than median of real pairs:\", 100*high_random);\n",
    "\n",
    "X, Y = generate_train_data(10**6, nr,data_index=index,flag=False)\n",
    "# print(\"X shape = \", X.shape)\n",
    "evaluate(net, X, Y);\n"
   ]
  },
  {
   "cell_type": "code",
   "execution_count": 3,
   "metadata": {},
   "outputs": [
    {
     "data": {
      "text/plain": [
       "21.584962500721158"
      ]
     },
     "execution_count": 3,
     "metadata": {},
     "output_type": "execute_result"
    }
   ],
   "source": [
    "from math import log2\n",
    "log2(2**16*3*2*8)"
   ]
  }
 ],
 "metadata": {
  "kernelspec": {
   "display_name": "Python 3.7.10 ('dp')",
   "language": "python",
   "name": "python3"
  },
  "language_info": {
   "codemirror_mode": {
    "name": "ipython",
    "version": 3
   },
   "file_extension": ".py",
   "mimetype": "text/x-python",
   "name": "python",
   "nbconvert_exporter": "python",
   "pygments_lexer": "ipython3",
   "version": "3.7.10"
  },
  "orig_nbformat": 4,
  "vscode": {
   "interpreter": {
    "hash": "a973277469dcd9aa66b6986b3014e87b7e866aa54cdd47c7c124e659e9174356"
   }
  }
 },
 "nbformat": 4,
 "nbformat_minor": 2
}
